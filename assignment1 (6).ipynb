{
 "cells": [
  {
   "cell_type": "raw",
   "id": "ba703eee",
   "metadata": {},
   "source": [
    "# ASSIGNMENT SOLUTION NO 1 \n",
    " \n",
    "1.In the below elements which of them are value or an expression?\n",
    "eg: values can be integer or string and expressions will be mathematical operators.\n",
    "\n",
    " *,\"hello\",-87.8,-,/,+,6\n",
    " \n",
    " \n",
    " ans :there are a total of 4 operators and 3 expressions ,\n",
    " they are :\n",
    "    operators:*,-,+,/\n",
    "    expressions:'hello', -87.8,6\n",
    "    \n",
    "    \n",
    "    \n",
    "    \n",
    "2.WHAT IS THE DIFFERENCE BETWEEN STRING AND VARIABLE?\n",
    "\n",
    "ANS: A variable is used to store of information ,and a string is a type of information ypu would store in a variable.\n",
    "    A string is a group of characters or a single character usually enclosed by in double quotes \"\" or single quotes''.\n",
    "\n",
    "\n",
    "3.DESCRIBE THREE DATA TYPES?\n",
    "\n",
    "ANS:Three fundamentals data types in python are string ,integer and float .\n",
    "\n",
    "  1.string data type :we can use str data type to represent any sequence of letters ,punctuation etc.\n",
    "  eg: s = \"hello world\"\n",
    "  2.int data type : we can use int data type to represent whole numbers(integral value).\n",
    "  eg:p = 1234\n",
    "  3.float data type: we can use float data type to  represent floating or decimal point values.\n",
    "  eg:m = 1.7 \n",
    "  \n",
    " \n",
    "4.WHAT IS AN EXPRESSION MADE UP OF?WHAT DO ALL EXPRESSIONS DO?\n",
    "\n",
    "ANS:An expreesion is a combination of values,operators and calls to functions.expressions need to be evaluated .If we \n",
    "    ask python to print an expression ,the imterpereter evaluates the expreesion and displays the result .\n",
    "\n",
    "eg : 4*5+20-10 is an expression.\n",
    "\n",
    "\n",
    "\n",
    "\n",
    "5. THIS ASSIGNMENT STATEMENT ,LIKE SPAM =10.WHAT IS THE DIFFERENCE BETWEEN AN EXPRESSION AND A STATEMENT ?\n",
    "\n",
    "ANS:An expression is a combination of values ,variables and operators .When we type an expression at the prompt,the interpreter evaluates it ,which means that it finds the value of expression.\n",
    "\n",
    "eg: 4*8-23+64 is an example of a statement .\n",
    "     \n",
    "     \n",
    "     \n",
    "     \n",
    "an statement is a unit of code that has an effect ,like creating a variable or displaying a value .When we type a statement ,the interpeter execute it,which means that it does whatever the statement says .In general ,statements do not have values.\n",
    "\n",
    "eg:variables declaration and assignment are statements because they do not return a value .\n",
    "\n",
    "\n",
    "\n",
    "\n",
    "6. AFTER RUNNING THE FOLLOWING CODE,WHAT DOES THE VARIABLE BACON CONTAIN?\n",
    "\n",
    "   bacon = 22\n",
    "   bacon +1 \n",
    "   \n",
    " Ans:the variable bacon is set to 22 .the expression bacon+1 does not reassign the value in bacon (that would the case if the expression like is bacon= bacon +1 instead of bacon +1\n",
    " "
   ]
  },
  {
   "cell_type": "code",
   "execution_count": 2,
   "id": "fe17b4ff",
   "metadata": {},
   "outputs": [
    {
     "name": "stdout",
     "output_type": "stream",
     "text": [
      "22\n"
     ]
    }
   ],
   "source": [
    "#example case 1 \n",
    "bacon = 22 \n",
    "bacon +1 \n",
    "print(bacon)"
   ]
  },
  {
   "cell_type": "code",
   "execution_count": 3,
   "id": "35b55d00",
   "metadata": {},
   "outputs": [
    {
     "name": "stdout",
     "output_type": "stream",
     "text": [
      "23\n"
     ]
    }
   ],
   "source": [
    "#case 2 \n",
    "becon = 22\n",
    "bacon = bacon+1 \n",
    "print (bacon)"
   ]
  },
  {
   "cell_type": "raw",
   "id": "7f9c5c36",
   "metadata": {},
   "source": [
    "#7.WHAT SHOULD THE VALUES OF THE FOLLOWING TWO TERMS BE?\n",
    "\n",
    "'spam'+'spamspam'\n",
    "'spam'*3\n",
    "\n",
    "\n",
    "ANS:Both expressions evaluate to the string 'spamspamspam' where the first expression follows string concatenation and the second expression follows string multiplication\n",
    "    "
   ]
  },
  {
   "cell_type": "code",
   "execution_count": 4,
   "id": "ea7be1b9",
   "metadata": {},
   "outputs": [
    {
     "name": "stdout",
     "output_type": "stream",
     "text": [
      "spamspamspam\n",
      "spamspamspam\n"
     ]
    }
   ],
   "source": [
    "print('spam'+'spamspam')\n",
    "print ('spam'*3)"
   ]
  },
  {
   "cell_type": "code",
   "execution_count": null,
   "id": "bb185cff",
   "metadata": {},
   "outputs": [],
   "source": [
    "# 8'WHY IS EGGS A VALID VARIABLE NAME WHILE 100 IS INVALID?\n",
    "\n",
    "\n",
    "ANS : As per python ,variable names cannot begin with a number .the python rules for naming a variable are :\n",
    "    1 .Variable name must start with a letter or the underscore character.\n",
    "    2.variable cannnot start with  a number.\n",
    "    3.variable name can only contain alpha - numeric characters and underscores (A-Z,0-9 and _)\n",
    "    4.the reserved words cannot be naming the variable ."
   ]
  },
  {
   "cell_type": "raw",
   "id": "1d2ec2ca",
   "metadata": {},
   "source": [
    "egg= 'world'#valid variable initilization\n",
    "100='hello'#invalid variable initilization\n",
    "print(egg)#prints the value of egg ie world\n",
    "print(100)#raises a Syntax error as 100 is not a valid variable name\n"
   ]
  },
  {
   "cell_type": "raw",
   "id": "5877f593",
   "metadata": {},
   "source": [
    "#9.WHAT THREE FUNCTIONS CAN BE USED TO GET THE INTEGER ,FLOATING POINT,NUMBER OR STRING VERSION OF A VALUE?\n",
    "\n",
    "ANS :the int(),float() and str() functions will evaluate to the integer,floating point number ,string value passed to them . "
   ]
  },
  {
   "cell_type": "code",
   "execution_count": 13,
   "id": "28eb6ad1",
   "metadata": {},
   "outputs": [
    {
     "name": "stdout",
     "output_type": "stream",
     "text": [
      "int(10.0)-> 12\n",
      "float (10)-> 14.0\n",
      "str(10)-> 10\n"
     ]
    }
   ],
   "source": [
    "#examples\n",
    "print ('int(10.0)->',int(12.0))#int()function converts given input to int \n",
    "print ('float (10)->',float(14))#float()function converts given input to float\n",
    "print ('str(10)->',str(10))#str  function converts given input to string "
   ]
  },
  {
   "cell_type": "raw",
   "id": "c9e3f5f1",
   "metadata": {},
   "source": [
    "#10.WHY DOES THE EXPRESSION CAUSE AN ERROR ?HOW CAN YOU FIX IT ?\n",
    "\n",
    "\"I have eaten\"+99+\"burritos \"\n",
    "\n",
    "ANS :this cause of error is 99 because 99 is not a string .99 must be typecasted to a string to fix this error .\n",
    "the correct way is :\n",
    "input :'I have eaten '+str(99)+'burritos'\n",
    "\n",
    "output :'I have eaten 99 burritos'"
   ]
  },
  {
   "cell_type": "code",
   "execution_count": 17,
   "id": "80d075db",
   "metadata": {},
   "outputs": [
    {
     "name": "stdout",
     "output_type": "stream",
     "text": [
      "I have eaten99burritos\n"
     ]
    }
   ],
   "source": [
    "print ('I have eaten'+  str(99)  + 'burritos')"
   ]
  },
  {
   "cell_type": "code",
   "execution_count": null,
   "id": "56822565",
   "metadata": {},
   "outputs": [],
   "source": []
  }
 ],
 "metadata": {
  "kernelspec": {
   "display_name": "Python 3 (ipykernel)",
   "language": "python",
   "name": "python3"
  },
  "language_info": {
   "codemirror_mode": {
    "name": "ipython",
    "version": 3
   },
   "file_extension": ".py",
   "mimetype": "text/x-python",
   "name": "python",
   "nbconvert_exporter": "python",
   "pygments_lexer": "ipython3",
   "version": "3.9.7"
  }
 },
 "nbformat": 4,
 "nbformat_minor": 5
}
